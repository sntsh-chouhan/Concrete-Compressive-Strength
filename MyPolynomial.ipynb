{
 "cells": [
  {
   "cell_type": "code",
   "execution_count": 1,
   "id": "271acc436acedb79",
   "metadata": {
    "ExecuteTime": {
     "end_time": "2024-03-13T10:30:24.646405Z",
     "start_time": "2024-03-13T10:30:24.641785Z"
    },
    "collapsed": false
   },
   "outputs": [
    {
     "name": "stderr",
     "output_type": "stream",
     "text": [
      "c:\\Users\\hp\\AppData\\Local\\Programs\\Python\\Python310\\lib\\site-packages\\scipy\\__init__.py:155: UserWarning: A NumPy version >=1.18.5 and <1.25.0 is required for this version of SciPy (detected version 1.26.4\n",
      "  warnings.warn(f\"A NumPy version >={np_minversion} and <{np_maxversion}\"\n"
     ]
    }
   ],
   "source": [
    "import numpy as np\n",
    "import pandas as pd\n",
    "import matplotlib.pyplot as plt\n",
    "import seaborn as sns\n",
    "import os\n",
    "import random\n",
    "\n",
    "pd.pandas.set_option('display.max_columns', None)\n",
    "%matplotlib inline\n",
    "random.seed(7)"
   ]
  },
  {
   "cell_type": "code",
   "execution_count": 2,
   "id": "e795916956ef234d",
   "metadata": {
    "ExecuteTime": {
     "end_time": "2024-03-13T10:30:24.652475Z",
     "start_time": "2024-03-13T10:30:24.648748Z"
    },
    "collapsed": false
   },
   "outputs": [],
   "source": [
    "from sklearn.model_selection import train_test_split, GridSearchCV, RandomizedSearchCV\n",
    "from sklearn.preprocessing import StandardScaler, MinMaxScaler, PolynomialFeatures\n",
    "from sklearn.linear_model import LinearRegression\n",
    "from sklearn.metrics import mean_squared_error, mean_absolute_error, r2_score"
   ]
  },
  {
   "cell_type": "code",
   "execution_count": 3,
   "id": "70950a217f2e9c12",
   "metadata": {
    "ExecuteTime": {
     "end_time": "2024-03-13T10:30:24.665596Z",
     "start_time": "2024-03-13T10:30:24.653567Z"
    },
    "collapsed": false
   },
   "outputs": [],
   "source": [
    "# src_csv = os.path.abspath(os.path.join(os.getcwd(), '..', '..', 'data', 'concrete.csv'))\n",
    "# df = pd.read_csv(src_csv)\n",
    "\n",
    "# df.head()\n",
    "\n",
    "df_train = pd.read_csv('train_concrete.csv')\n",
    "df_test = pd.read_csv('test_concrete.csv')\n",
    "df_dev = pd.read_csv('dev_concrete.csv')\n",
    "\n",
    "X_train = df_train.iloc[:, :-1].values\n",
    "X_test = df_test.iloc[:, :-1].values\n",
    "X_dev = df_dev.iloc[:, :-1].values\n",
    "y_train = df_train.iloc[:, -1].values.reshape(-1,1)\n",
    "y_test = df_test.iloc[:, -1].values.reshape(-1,1)\n",
    "y_dev = df_dev.iloc[:, -1].values.reshape(-1,1)"
   ]
  },
  {
   "cell_type": "code",
   "execution_count": 4,
   "id": "9d809b2d65cd16b2",
   "metadata": {
    "ExecuteTime": {
     "end_time": "2024-03-13T10:30:24.671111Z",
     "start_time": "2024-03-13T10:30:24.666720Z"
    },
    "collapsed": false
   },
   "outputs": [
    {
     "name": "stdout",
     "output_type": "stream",
     "text": [
      "(618, 6) (618, 1)\n"
     ]
    }
   ],
   "source": [
    "X_train = df_train.drop(df_train.columns[-1], axis=1).values\n",
    "y_train = df_train[df_train.columns[-1]].values.reshape(-1, 1)\n",
    "print(X_train.shape, y_train.shape)"
   ]
  },
  {
   "cell_type": "code",
   "execution_count": 144,
   "id": "initial_id",
   "metadata": {
    "ExecuteTime": {
     "end_time": "2024-03-13T10:30:24.676112Z",
     "start_time": "2024-03-13T10:30:24.672271Z"
    },
    "collapsed": true
   },
   "outputs": [],
   "source": [
    "# train, validation, test = 60%, 20%, 20%\n",
    "# X_tv, X_test, y_tv, y_test = train_test_split(X_data, y_data, test_size=0.2, random_state=7)\n",
    "# X_train, X_val, y_train, y_val = train_test_split(X_tv, y_tv, test_size=0.25, random_state=7)"
   ]
  },
  {
   "cell_type": "code",
   "execution_count": 5,
   "id": "776812a9f3c3ba99",
   "metadata": {
    "ExecuteTime": {
     "end_time": "2024-03-13T10:30:24.687263Z",
     "start_time": "2024-03-13T10:30:24.677201Z"
    },
    "collapsed": false
   },
   "outputs": [
    {
     "name": "stdout",
     "output_type": "stream",
     "text": [
      "(618, 28)\n",
      "0.31437490722689754\n"
     ]
    },
    {
     "data": {
      "text/plain": [
       "array([[ 1.        ,  0.30761519,  2.21411726, ...,  0.23016244,\n",
       "         0.409896  ,  0.72998328],\n",
       "       [ 1.        ,  0.36026913,  1.63176108, ...,  2.31326554,\n",
       "         3.21500919,  4.46826528],\n",
       "       [ 1.        ,  0.94616388,  0.25496327, ...,  1.19064224,\n",
       "         0.16712146,  0.02345758],\n",
       "       ...,\n",
       "       [ 1.        , -0.86991838, -0.8581924 , ...,  0.51439997,\n",
       "         1.74834675,  5.94229491],\n",
       "       [ 1.        ,  1.85564103,  0.53383806, ...,  0.28574578,\n",
       "        -0.08187126,  0.02345758],\n",
       "       [ 1.        ,  0.3143166 , -0.8581924 , ...,  0.5409357 ,\n",
       "        -0.11264564,  0.02345758]])"
      ]
     },
     "execution_count": 5,
     "metadata": {},
     "output_type": "execute_result"
    }
   ],
   "source": [
    "poly = PolynomialFeatures(degree=2)\n",
    "X_poly = poly.fit_transform(X_train)\n",
    "poly.fit(X_poly, y_train)\n",
    "print(X_poly.shape)\n",
    "model = LinearRegression()\n",
    "model.fit(X_poly, y_train)\n",
    "y_pred = model.predict(poly.fit_transform(X_dev))\n",
    "\n",
    "mse = mean_squared_error(y_dev, y_pred)\n",
    "mae = mean_absolute_error(y_dev, y_pred)\n",
    "r2 = r2_score(y_dev, y_pred)\n",
    "mae_in = mae\n",
    "\n",
    "\n",
    "y_pred_test=model.predict(X_test)\n",
    "mse_test = mean_squared_error(y_test, y_pred)\n",
    "mae_test = mean_absolute_error(y_test, y_pred)\n",
    "r2_test = r2_score(y_test, y_pred)\n",
    "\n",
    "print(mae)\n",
    "X_poly\n",
    "# print(model.intercept_)\n",
    "# print(model.coef_)"
   ]
  },
  {
   "cell_type": "code",
   "execution_count": 145,
   "id": "b2106e1ad0f2fb7d",
   "metadata": {
    "ExecuteTime": {
     "end_time": "2024-03-13T10:30:24.690243Z",
     "start_time": "2024-03-13T10:30:24.688268Z"
    },
    "collapsed": false
   },
   "outputs": [],
   "source": []
  },
  {
   "cell_type": "code",
   "execution_count": 12,
   "id": "aeb75c8d9c5f6c38",
   "metadata": {
    "ExecuteTime": {
     "end_time": "2024-03-13T10:30:24.700463Z",
     "start_time": "2024-03-13T10:30:24.691384Z"
    },
    "collapsed": false
   },
   "outputs": [
    {
     "data": {
      "text/plain": [
       "array([[ 1.        ,  0.30761519,  2.21411726, ...,  0.23016244,\n",
       "         0.409896  ,  0.72998328],\n",
       "       [ 1.        ,  0.36026913,  1.63176108, ...,  2.31326554,\n",
       "         3.21500919,  4.46826528],\n",
       "       [ 1.        ,  0.94616388,  0.25496327, ...,  1.19064224,\n",
       "         0.16712146,  0.02345758],\n",
       "       ...,\n",
       "       [ 1.        , -0.86991838, -0.8581924 , ...,  0.51439997,\n",
       "         1.74834675,  5.94229491],\n",
       "       [ 1.        ,  1.85564103,  0.53383806, ...,  0.28574578,\n",
       "        -0.08187126,  0.02345758],\n",
       "       [ 1.        ,  0.3143166 , -0.8581924 , ...,  0.5409357 ,\n",
       "        -0.11264564,  0.02345758]])"
      ]
     },
     "execution_count": 12,
     "metadata": {},
     "output_type": "execute_result"
    }
   ],
   "source": [
    "class MyPolynomialFeatures: \n",
    "    def __init__(self, degree=3):\n",
    "        self.degree = degree\n",
    "        \n",
    "    def fit_transform(self, X):\n",
    "        n_samples, n_features = X.shape    \n",
    "        X = np.concatenate((np.ones((n_samples, 1)), X), axis=1)\n",
    "        \n",
    "        X_poly = np.empty((n_samples, 0))\n",
    "        iters = np.zeros(self.degree + 1).astype(int)\n",
    "    \n",
    "        while iters[0] == 0:\n",
    "            new_X = np.ones((n_samples, 1))\n",
    "            \n",
    "            for i in iters:\n",
    "                if i != 0:\n",
    "                    new_X *= X[:, i].reshape((n_samples, 1))\n",
    "                \n",
    "            X_poly = np.concatenate((X_poly, new_X), axis=1)\n",
    "            \n",
    "            i = self.degree\n",
    "            iters[i] += 1\n",
    "            while iters[i] > n_features:\n",
    "                iters[i] = 0\n",
    "                i -= 1\n",
    "                iters[i] += 1\n",
    "            for j in range(i + 1, self.degree + 1):\n",
    "                iters[j] = iters[i]\n",
    "        \n",
    "        return X_poly\n",
    "    \n",
    "poly = PolynomialFeatures(degree=2)\n",
    "poly.fit_transform(X_train)"
   ]
  },
  {
   "cell_type": "code",
   "execution_count": 13,
   "id": "5930c3c1d32f25b0",
   "metadata": {
    "ExecuteTime": {
     "end_time": "2024-03-13T10:30:24.711019Z",
     "start_time": "2024-03-13T10:30:24.701525Z"
    },
    "collapsed": false
   },
   "outputs": [
    {
     "name": "stdout",
     "output_type": "stream",
     "text": [
      "(206, 28) (28, 1)\n"
     ]
    },
    {
     "ename": "ValueError",
     "evalue": "matmul: Input operand 1 has a mismatch in its core dimension 0, with gufunc signature (n?,k),(k,m?)->(n?,m?) (size 28 is different from 6)",
     "output_type": "error",
     "traceback": [
      "\u001b[1;31m---------------------------------------------------------------------------\u001b[0m",
      "\u001b[1;31mValueError\u001b[0m                                Traceback (most recent call last)",
      "Input \u001b[1;32mIn [13]\u001b[0m, in \u001b[0;36m<cell line: 31>\u001b[1;34m()\u001b[0m\n\u001b[0;32m     27\u001b[0m mae \u001b[38;5;241m=\u001b[39m mean_absolute_error(y_dev, y_pred)\n\u001b[0;32m     28\u001b[0m r2 \u001b[38;5;241m=\u001b[39m r2_score(y_dev, y_pred)\n\u001b[1;32m---> 31\u001b[0m y_pred_test\u001b[38;5;241m=\u001b[39m\u001b[43mmodel\u001b[49m\u001b[38;5;241;43m.\u001b[39;49m\u001b[43mpredict\u001b[49m\u001b[43m(\u001b[49m\u001b[43mX_test\u001b[49m\u001b[43m)\u001b[49m\n\u001b[0;32m     32\u001b[0m mse_test \u001b[38;5;241m=\u001b[39m mean_squared_error(y_test, y_pred)\n\u001b[0;32m     33\u001b[0m mae_test \u001b[38;5;241m=\u001b[39m mean_absolute_error(y_test, y_pred)\n",
      "Input \u001b[1;32mIn [13]\u001b[0m, in \u001b[0;36mMyLinearRegression_LSM.predict\u001b[1;34m(self, X)\u001b[0m\n\u001b[0;32m     16\u001b[0m     \u001b[38;5;28;01mreturn\u001b[39;00m X \u001b[38;5;241m@\u001b[39m \u001b[38;5;28mself\u001b[39m\u001b[38;5;241m.\u001b[39mtheta[\u001b[38;5;241m1\u001b[39m:] \u001b[38;5;241m+\u001b[39m \u001b[38;5;28mself\u001b[39m\u001b[38;5;241m.\u001b[39mtheta[\u001b[38;5;241m0\u001b[39m]\n\u001b[0;32m     17\u001b[0m \u001b[38;5;28;01melse\u001b[39;00m:\n\u001b[1;32m---> 18\u001b[0m     \u001b[38;5;28;01mreturn\u001b[39;00m \u001b[43mX\u001b[49m\u001b[43m \u001b[49m\u001b[38;5;241;43m@\u001b[39;49m\u001b[43m \u001b[49m\u001b[38;5;28;43mself\u001b[39;49m\u001b[38;5;241;43m.\u001b[39;49m\u001b[43mtheta\u001b[49m\n",
      "\u001b[1;31mValueError\u001b[0m: matmul: Input operand 1 has a mismatch in its core dimension 0, with gufunc signature (n?,k),(k,m?)->(n?,m?) (size 28 is different from 6)"
     ]
    }
   ],
   "source": [
    "class MyLinearRegression_LSM:\n",
    "    def __init__(self, learning_rate=0.01, epochs=1000, bias=True):\n",
    "        self.learning_rate = learning_rate\n",
    "        self.epochs = epochs\n",
    "        self.bias = bias\n",
    "        self.theta = None\n",
    "        \n",
    "    def fit(self, X, y):\n",
    "        if self.bias:\n",
    "            X = np.concatenate((np.ones((X.shape[0], 1)), X), axis=1)\n",
    "            \n",
    "        self.theta = np.linalg.inv(X.T @ X) @ X.T @ y\n",
    "    \n",
    "    def predict(self, X):\n",
    "        if self.bias:\n",
    "            return X @ self.theta[1:] + self.theta[0]\n",
    "        else:\n",
    "            return X @ self.theta\n",
    "    \n",
    "\n",
    "model = MyLinearRegression_LSM(bias=False)\n",
    "model.fit(poly.fit_transform(X_train), y_train)\n",
    "print(poly.fit_transform(X_dev).shape, model.theta.shape)\n",
    "y_pred = model.predict(poly.fit_transform(X_dev))\n",
    "\n",
    "mse = mean_squared_error(y_dev, y_pred)\n",
    "mae = mean_absolute_error(y_dev, y_pred)\n",
    "r2 = r2_score(y_dev, y_pred)\n",
    "\n",
    "\n",
    "y_pred_test=model.predict(X_test)\n",
    "mse_test = mean_squared_error(y_test, y_pred)\n",
    "mae_test = mean_absolute_error(y_test, y_pred)\n",
    "r2_test = r2_score(y_test, y_pred)\n",
    "\n",
    "print(mae, mae_in)"
   ]
  },
  {
   "cell_type": "code",
   "execution_count": 10,
   "id": "b7754b4af37f4552",
   "metadata": {
    "ExecuteTime": {
     "end_time": "2024-03-13T10:30:49.166190Z",
     "start_time": "2024-03-13T10:30:49.025116Z"
    },
    "collapsed": false
   },
   "outputs": [
    {
     "data": {
      "image/png": "[encoded data removed]",
      "text/plain": [
       "<Figure size 432x288 with 1 Axes>"
      ]
     },
     "metadata": {
      "needs_background": "light"
     },
     "output_type": "display_data"
    },
    {
     "ename": "ValueError",
     "evalue": "matmul: Input operand 1 has a mismatch in its core dimension 0, with gufunc signature (n?,k),(k,m?)->(n?,m?) (size 28 is different from 6)",
     "output_type": "error",
     "traceback": [
      "\u001b[1;31m---------------------------------------------------------------------------\u001b[0m",
      "\u001b[1;31mValueError\u001b[0m                                Traceback (most recent call last)",
      "Input \u001b[1;32mIn [10]\u001b[0m, in \u001b[0;36m<cell line: 53>\u001b[1;34m()\u001b[0m\n\u001b[0;32m     49\u001b[0m mae \u001b[38;5;241m=\u001b[39m mean_absolute_error(y_dev, y_pred)\n\u001b[0;32m     50\u001b[0m r2 \u001b[38;5;241m=\u001b[39m r2_score(y_dev, y_pred)\n\u001b[1;32m---> 53\u001b[0m y_pred_test\u001b[38;5;241m=\u001b[39m\u001b[43mmodel\u001b[49m\u001b[38;5;241;43m.\u001b[39;49m\u001b[43mpredict\u001b[49m\u001b[43m(\u001b[49m\u001b[43mX_test\u001b[49m\u001b[43m)\u001b[49m\n\u001b[0;32m     54\u001b[0m mse_test \u001b[38;5;241m=\u001b[39m mean_squared_error(y_test, y_pred)\n\u001b[0;32m     55\u001b[0m mae_test \u001b[38;5;241m=\u001b[39m mean_absolute_error(y_test, y_pred)\n",
      "Input \u001b[1;32mIn [10]\u001b[0m, in \u001b[0;36mMyLinearRegression_BGD.predict\u001b[1;34m(self, X)\u001b[0m\n\u001b[0;32m     39\u001b[0m     \u001b[38;5;28;01mreturn\u001b[39;00m X \u001b[38;5;241m@\u001b[39m \u001b[38;5;28mself\u001b[39m\u001b[38;5;241m.\u001b[39mtheta[\u001b[38;5;241m1\u001b[39m:] \u001b[38;5;241m+\u001b[39m \u001b[38;5;28mself\u001b[39m\u001b[38;5;241m.\u001b[39mtheta[\u001b[38;5;241m0\u001b[39m]\n\u001b[0;32m     40\u001b[0m \u001b[38;5;28;01melse\u001b[39;00m:\n\u001b[1;32m---> 41\u001b[0m     \u001b[38;5;28;01mreturn\u001b[39;00m \u001b[43mX\u001b[49m\u001b[43m \u001b[49m\u001b[38;5;241;43m@\u001b[39;49m\u001b[43m \u001b[49m\u001b[38;5;28;43mself\u001b[39;49m\u001b[38;5;241;43m.\u001b[39;49m\u001b[43mtheta\u001b[49m\n",
      "\u001b[1;31mValueError\u001b[0m: matmul: Input operand 1 has a mismatch in its core dimension 0, with gufunc signature (n?,k),(k,m?)->(n?,m?) (size 28 is different from 6)"
     ]
    }
   ],
   "source": [
    "class MyLinearRegression_BGD:\n",
    "    def __init__(self, learning_rate=0.01, degree=1, epochs=1000, bias=True):\n",
    "        self.learning_rate = learning_rate\n",
    "        self.degree = degree\n",
    "        self.epochs = epochs\n",
    "        self.bias = bias\n",
    "        self.theta = None\n",
    "\n",
    "    def fit(self, X, y):\n",
    "        if self.bias:\n",
    "            X = np.concatenate((np.ones((X.shape[0], 1)), X), axis=1)\n",
    "\n",
    "        n_samples, n_dims = X.shape\n",
    "\n",
    "        self.theta = np.zeros((n_dims, 1))\n",
    "\n",
    "        cost_list = []\n",
    "        epoch_list = []\n",
    "\n",
    "        for epoch in range(self.epochs):\n",
    "            y_pred = X @ self.theta\n",
    "\n",
    "            dt = (2 / n_samples) * (X.T @ (y_pred - y))\n",
    "\n",
    "            self.theta -= self.learning_rate * dt\n",
    "\n",
    "            if epoch % 10 == 0:\n",
    "                cost = np.mean(np.square(y_pred - y))\n",
    "                cost_list.append(cost)\n",
    "                epoch_list.append(epoch)\n",
    "\n",
    "        plt.plot(epoch_list, cost_list)\n",
    "        plt.xlabel('Epoch')\n",
    "        plt.ylabel('Cost')\n",
    "        plt.show()\n",
    "\n",
    "    def predict(self, X):\n",
    "        if self.bias:\n",
    "            return X @ self.theta[1:] + self.theta[0]\n",
    "        else:\n",
    "            return X @ self.theta\n",
    "\n",
    "\n",
    "model = MyLinearRegression_BGD(bias=False)\n",
    "model.fit(poly.fit_transform(X_train), y_train)\n",
    "y_pred = model.predict(poly.fit_transform(X_dev))\n",
    "\n",
    "mse = mean_squared_error(y_dev, y_pred)\n",
    "mae = mean_absolute_error(y_dev, y_pred)\n",
    "r2 = r2_score(y_dev, y_pred)\n",
    "\n",
    "\n",
    "y_pred_test=model.predict(X_test)\n",
    "mse_test = mean_squared_error(y_test, y_pred)\n",
    "mae_test = mean_absolute_error(y_test, y_pred)\n",
    "r2_test = r2_score(y_test, y_pred)\n",
    "\n",
    "print(mse)\n",
    "print(r2)"
   ]
  },
  {
   "cell_type": "code",
   "execution_count": 147,
   "id": "db7a8885a01dca55",
   "metadata": {
    "ExecuteTime": {
     "end_time": "2024-03-13T10:30:24.714183Z",
     "start_time": "2024-03-13T10:30:24.712107Z"
    },
    "collapsed": false
   },
   "outputs": [],
   "source": []
  },
  {
   "cell_type": "code",
   "execution_count": 147,
   "id": "faf30fd3e62051ee",
   "metadata": {
    "ExecuteTime": {
     "end_time": "2024-03-13T10:30:24.718262Z",
     "start_time": "2024-03-13T10:30:24.716265Z"
    },
    "collapsed": false
   },
   "outputs": [],
   "source": []
  }
 ],
 "metadata": {
  "kernelspec": {
   "display_name": "Python 3",
   "language": "python",
   "name": "python3"
  },
  "language_info": {
   "codemirror_mode": {
    "name": "ipython",
    "version": 3
   },
   "file_extension": ".py",
   "mimetype": "text/x-python",
   "name": "python",
   "nbconvert_exporter": "python",
   "pygments_lexer": "ipython3",
   "version": "3.10.5"
  }
 },
 "nbformat": 4,
 "nbformat_minor": 5
}
