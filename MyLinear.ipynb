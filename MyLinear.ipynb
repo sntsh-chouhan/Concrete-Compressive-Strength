{
 "cells": [
  {
   "cell_type": "code",
   "execution_count": 15,
   "id": "271acc436acedb79",
   "metadata": {
    "ExecuteTime": {
     "end_time": "2024-03-10T09:16:35.767704Z",
     "start_time": "2024-03-10T09:16:35.762167Z"
    },
    "collapsed": false
   },
   "outputs": [],
   "source": [
    "import numpy as np\n",
    "import pandas as pd\n",
    "import matplotlib.pyplot as plt\n",
    "import seaborn as sns\n",
    "import os\n",
    "import random\n",
    "\n",
    "pd.pandas.set_option('display.max_columns', None)\n",
    "%matplotlib inline\n",
    "random.seed(7)"
   ]
  },
  {
   "cell_type": "code",
   "execution_count": 16,
   "id": "e795916956ef234d",
   "metadata": {
    "ExecuteTime": {
     "end_time": "2024-03-10T09:16:35.781755Z",
     "start_time": "2024-03-10T09:16:35.777240Z"
    },
    "collapsed": false
   },
   "outputs": [],
   "source": [
    "from sklearn.model_selection import train_test_split, GridSearchCV, RandomizedSearchCV\n",
    "from sklearn.preprocessing import StandardScaler, MinMaxScaler\n",
    "from sklearn.linear_model import LinearRegression\n",
    "from sklearn.metrics import mean_squared_error, mean_absolute_error, r2_score"
   ]
  },
  {
   "cell_type": "code",
   "execution_count": 17,
   "id": "70950a217f2e9c12",
   "metadata": {
    "ExecuteTime": {
     "end_time": "2024-03-10T09:16:35.796781Z",
     "start_time": "2024-03-10T09:16:35.783768Z"
    },
    "collapsed": false
   },
   "outputs": [],
   "source": [
    "# src_csv = os.path.abspath(os.path.join(os.getcwd(), '..', '..', 'data', 'concrete.csv'))\n",
    "# df = pd.read_csv(src_csv)\n",
    "\n",
    "# df.head()\n",
    "\n",
    "df_train = pd.read_csv('train_concrete.csv')\n",
    "df_test = pd.read_csv('test_concrete.csv')\n",
    "df_dev = pd.read_csv('dev_concrete.csv')\n",
    "\n",
    "X_train = df_train.iloc[:, :-1].values\n",
    "X_test = df_test.iloc[:, :-1].values\n",
    "X_dev = df_dev.iloc[:, :-1].values\n",
    "y_train = df_train.iloc[:, -1].values.reshape(-1,1)\n",
    "y_test = df_test.iloc[:, -1].values.reshape(-1,1)\n",
    "y_dev = df_dev.iloc[:, -1].values.reshape(-1,1)"
   ]
  },
  {
   "cell_type": "code",
   "execution_count": 18,
   "id": "9d809b2d65cd16b2",
   "metadata": {
    "ExecuteTime": {
     "end_time": "2024-03-10T09:16:35.802896Z",
     "start_time": "2024-03-10T09:16:35.797787Z"
    },
    "collapsed": false
   },
   "outputs": [
    {
     "name": "stdout",
     "output_type": "stream",
     "text": [
      "(618, 6) (618, 1)\n"
     ]
    }
   ],
   "source": [
    "X_train = df_train.drop(df_train.columns[-1], axis=1).values\n",
    "y_train = df_train[df_train.columns[-1]].values.reshape(-1, 1)\n",
    "print(X_train.shape, y_train.shape)"
   ]
  },
  {
   "cell_type": "code",
   "execution_count": 38,
   "id": "initial_id",
   "metadata": {
    "ExecuteTime": {
     "end_time": "2024-03-10T09:16:35.809511Z",
     "start_time": "2024-03-10T09:16:35.804902Z"
    },
    "collapsed": true
   },
   "outputs": [],
   "source": [
    "# train, validation, test = 60%, 20%, 20%\n",
    "# X_tv, X_test, y_tv, y_dev = train_test_split(X_train, y_train, test_size=0.2, random_state=7)\n",
    "# X_train, X_val, y_train, y_val = train_test_split(X_tv, y_tv, test_size=0.25, random_state=7)"
   ]
  },
  {
   "cell_type": "code",
   "execution_count": 22,
   "id": "3ae719abeb3ac6bc",
   "metadata": {
    "ExecuteTime": {
     "end_time": "2024-03-10T09:16:35.853781Z",
     "start_time": "2024-03-10T09:16:35.846028Z"
    },
    "collapsed": false
   },
   "outputs": [
    {
     "name": "stdout",
     "output_type": "stream",
     "text": [
      "0.3722660547706093\n",
      "0.6439802910604244\n"
     ]
    }
   ],
   "source": [
    "class MyLinearRegression_LSM:\n",
    "    def __init__(self, learning_rate=0.01, epochs=1000):\n",
    "        self.learning_rate = learning_rate\n",
    "        self.epochs = epochs\n",
    "        self.theta = None\n",
    "        \n",
    "    def fit(self, X, y):        \n",
    "        X = np.concatenate((np.ones((X.shape[0], 1)), X), axis=1)\n",
    "        self.theta = np.linalg.inv(X.T @ X) @ X.T @ y\n",
    "    \n",
    "    def predict(self, X):\n",
    "        return X @ self.theta[1:] + self.theta[0]\n",
    "    \n",
    "    \n",
    "model = MyLinearRegression_LSM()\n",
    "model.fit(X_train, y_train)\n",
    "y_pred = model.predict(X_dev)\n",
    "\n",
    "mse = mean_squared_error(y_dev, y_pred)\n",
    "mae = mean_absolute_error(y_dev, y_pred)\n",
    "r2 = r2_score(y_dev, y_pred)\n",
    "\n",
    "\n",
    "y_pred_test=model.predict(X_test)\n",
    "mse_test = mean_squared_error(y_test, y_pred)\n",
    "mae_test = mean_absolute_error(y_test, y_pred)\n",
    "r2_test = r2_score(y_test, y_pred)\n",
    "\n",
    "\n",
    "\n",
    "\n",
    "print(mse)\n",
    "print(r2)\n"
   ]
  },
  {
   "cell_type": "code",
   "execution_count": 8,
   "id": "c21d1b3c66597b82",
   "metadata": {
    "ExecuteTime": {
     "end_time": "2024-03-10T09:16:36.030291Z",
     "start_time": "2024-03-10T09:16:35.861296Z"
    },
    "collapsed": false
   },
   "outputs": [
    {
     "data": {
      "image/png": "[encoded data removed]",
      "text/plain": [
       "<Figure size 432x288 with 1 Axes>"
      ]
     },
     "metadata": {
      "needs_background": "light"
     },
     "output_type": "display_data"
    },
    {
     "name": "stdout",
     "output_type": "stream",
     "text": [
      "0.4140560103660347\n",
      "[[-0.01857822]\n",
      " [ 0.51801781]\n",
      " [ 0.27927288]\n",
      " [ 0.03607182]\n",
      " [-0.22004312]\n",
      " [ 0.14334713]\n",
      " [-0.09821424]\n",
      " [-0.11680488]\n",
      " [ 0.49413377]]\n"
     ]
    }
   ],
   "source": [
    "class MyLinearRegression_BGD:\n",
    "    def __init__(self, learning_rate=0.01, epochs=1000):\n",
    "        self.learning_rate = learning_rate\n",
    "        self.epochs = epochs\n",
    "        self.theta = None\n",
    "        \n",
    "    def fit(self, X, y):\n",
    "        X = np.concatenate((np.ones((X.shape[0], 1)), X), axis=1)\n",
    "        n_samples, n_dims = X.shape\n",
    "        \n",
    "        self.theta = np.zeros((n_dims, 1))\n",
    "        \n",
    "        cost_list = []\n",
    "        epoch_list = []\n",
    "    \n",
    "        for epoch in range(self.epochs):\n",
    "            y_pred = X @ self.theta\n",
    "            \n",
    "            dt = (2 / n_samples) * (X.T @ (y_pred - y))\n",
    "    \n",
    "            self.theta -= self.learning_rate * dt\n",
    "            \n",
    "            if epoch % 10 == 0:\n",
    "                cost = np.mean(np.square(y_pred - y))\n",
    "                cost_list.append(cost)\n",
    "                epoch_list.append(epoch)\n",
    "            \n",
    "        plt.plot(epoch_list, cost_list)\n",
    "        plt.xlabel('Epoch')\n",
    "        plt.ylabel('Cost')\n",
    "        plt.show()\n",
    "    \n",
    "    def predict(self, X):\n",
    "        return X @ self.theta[1:] + self.theta[0]\n",
    "    \n",
    "    \n",
    "model = MyLinearRegression_BGD()\n",
    "model.fit(X_train, y_train)\n",
    "y_pred = model.predict(X_dev)\n",
    "\n",
    "mse = mean_squared_error(y_dev, y_pred)\n",
    "mae = mean_absolute_error(y_dev, y_pred)\n",
    "r2 = r2_score(y_dev, y_pred)\n",
    "\n",
    "y_pred_test=model.predict(X_test)\n",
    "mse_test = mean_squared_error(y_test, y_pred)\n",
    "mae_test = mean_absolute_error(y_test, y_pred)\n",
    "r2_test = r2_score(y_test, y_pred)\n",
    "\n",
    "print(mae)\n",
    "print(model.theta)"
   ]
  },
  {
   "cell_type": "code",
   "execution_count": 9,
   "id": "b5fd313587442659",
   "metadata": {
    "ExecuteTime": {
     "end_time": "2024-03-10T09:16:40.406020Z",
     "start_time": "2024-03-10T09:16:36.031299Z"
    },
    "collapsed": false
   },
   "outputs": [
    {
     "data": {
      "image/png": "[encoded data removed]",
      "text/plain": [
       "<Figure size 432x288 with 1 Axes>"
      ]
     },
     "metadata": {
      "needs_background": "light"
     },
     "output_type": "display_data"
    },
    {
     "name": "stdout",
     "output_type": "stream",
     "text": [
      "0.4140675263396991\n",
      "[[-0.01858379]\n",
      " [ 0.51813714]\n",
      " [ 0.27921911]\n",
      " [ 0.03592034]\n",
      " [-0.22021037]\n",
      " [ 0.14345063]\n",
      " [-0.09822412]\n",
      " [-0.11662858]\n",
      " [ 0.49409512]]\n"
     ]
    }
   ],
   "source": [
    "class MyLinearRegression_SGD:\n",
    "    def __init__(self, learning_rate=0.01, epochs=1000):\n",
    "        self.learning_rate = learning_rate\n",
    "        self.epochs = epochs\n",
    "        self.theta = None\n",
    "        \n",
    "    def fit(self, X, y):        \n",
    "        X = np.concatenate((np.ones((X.shape[0], 1)), X), axis=1)\n",
    "        n_samples, n_dims = X.shape\n",
    "        \n",
    "        self.theta = np.zeros((n_dims, 1))\n",
    "        \n",
    "        cost_list = []\n",
    "        epoch_list = []\n",
    "    \n",
    "        for epoch in range(self.epochs):\n",
    "            cost = 0\n",
    "            \n",
    "            for i in range(n_samples):\n",
    "                X_i = X[i : i+1]\n",
    "                y_i = y[i : i+1]\n",
    "                                                 \n",
    "                y_pred = X_i @ self.theta\n",
    "    \n",
    "                dt = (2 / n_samples) * (X_i.T @ (y_pred - y_i))\n",
    "        \n",
    "                self.theta -= self.learning_rate * dt\n",
    "                \n",
    "                cost += np.square(y_pred - y_i).item()\n",
    "            \n",
    "            if epoch % 10 == 0:\n",
    "                cost = cost / n_samples\n",
    "                cost_list.append(cost)\n",
    "                epoch_list.append(epoch)\n",
    "            \n",
    "        plt.plot(epoch_list, cost_list)\n",
    "        plt.xlabel('Epoch')\n",
    "        plt.ylabel('Cost')\n",
    "        plt.show()\n",
    "    \n",
    "    def predict(self, X):\n",
    "        return X @ self.theta[1:] + self.theta[0]\n",
    "    \n",
    "    \n",
    "model = MyLinearRegression_SGD()\n",
    "model.fit(X_train, y_train)\n",
    "y_pred = model.predict(X_dev)\n",
    "\n",
    "mse = mean_squared_error(y_dev, y_pred)\n",
    "mae = mean_absolute_error(y_dev, y_pred)\n",
    "r2 = r2_score(y_dev, y_pred)\n",
    "\n",
    "\n",
    "y_pred_test=model.predict(X_test)\n",
    "mse_test = mean_squared_error(y_test, y_pred)\n",
    "mae_test = mean_absolute_error(y_test, y_pred)\n",
    "r2_test = r2_score(y_test, y_pred)\n",
    "print(mae)\n",
    "print(model.theta)"
   ]
  },
  {
   "cell_type": "code",
   "execution_count": 10,
   "id": "55022f732a65476c",
   "metadata": {
    "ExecuteTime": {
     "end_time": "2024-03-10T09:16:40.650210Z",
     "start_time": "2024-03-10T09:16:40.407042Z"
    },
    "collapsed": false
   },
   "outputs": [
    {
     "data": {
      "image/png": "[encoded data removed]",
      "text/plain": [
       "<Figure size 432x288 with 1 Axes>"
      ]
     },
     "metadata": {
      "needs_background": "light"
     },
     "output_type": "display_data"
    },
    {
     "name": "stdout",
     "output_type": "stream",
     "text": [
      "0.4140598915495241\n",
      "[[-0.0186009 ]\n",
      " [ 0.51814254]\n",
      " [ 0.27921961]\n",
      " [ 0.03593209]\n",
      " [-0.22020891]\n",
      " [ 0.1434431 ]\n",
      " [-0.09822792]\n",
      " [-0.11664064]\n",
      " [ 0.49411272]]\n"
     ]
    }
   ],
   "source": [
    "class MyLinearRegression_MBGD:\n",
    "    def __init__(self, learning_rate=0.01, epochs=1000, batch_size=64):\n",
    "        self.learning_rate = learning_rate\n",
    "        self.epochs = epochs\n",
    "        self.batch_size = batch_size\n",
    "        self.theta = None\n",
    "        \n",
    "    def fit(self, X, y):        \n",
    "        X = np.concatenate((np.ones((X.shape[0], 1)), X), axis=1)\n",
    "        n_samples, n_dims = X.shape\n",
    "        \n",
    "        self.theta = np.zeros((n_dims, 1))\n",
    "        \n",
    "        cost_list = []\n",
    "        epoch_list = []\n",
    "    \n",
    "        for epoch in range(self.epochs):\n",
    "            cost = 0\n",
    "            \n",
    "            for batch_start in range(0, n_samples, self.batch_size):\n",
    "                batch_end = min(batch_start + self.batch_size, n_samples)\n",
    "                X_batch = X[batch_start : batch_end]\n",
    "                y_batch = y[batch_start : batch_end]\n",
    "                                                 \n",
    "                y_pred = X_batch @ self.theta\n",
    "    \n",
    "                dt = (2 / n_samples) * (X_batch.T @ (y_pred - y_batch))\n",
    "        \n",
    "                self.theta -= self.learning_rate * dt\n",
    "                \n",
    "                cost += np.sum(np.square(y_pred - y_batch))\n",
    "            \n",
    "            if epoch % 10 == 0:\n",
    "                cost = cost / n_samples\n",
    "                cost_list.append(cost)\n",
    "                epoch_list.append(epoch)\n",
    "            \n",
    "        plt.plot(epoch_list, cost_list)\n",
    "        plt.xlabel('Epoch')\n",
    "        plt.ylabel('Cost')\n",
    "        plt.show()\n",
    "    \n",
    "    def predict(self, X):\n",
    "        return X @ self.theta[1:] + self.theta[0]\n",
    "    \n",
    "    \n",
    "model = MyLinearRegression_MBGD()\n",
    "model.fit(X_train, y_train)\n",
    "y_pred = model.predict(X_dev)\n",
    "\n",
    "mse = mean_squared_error(y_dev, y_pred)\n",
    "mae = mean_absolute_error(y_dev, y_pred)\n",
    "r2 = r2_score(y_dev, y_pred)\n",
    "\n",
    "y_pred_test=model.predict(X_test)\n",
    "mse_test = mean_squared_error(y_test, y_pred)\n",
    "mae_test = mean_absolute_error(y_test, y_pred)\n",
    "r2_test = r2_score(y_test, y_pred)\n",
    "\n",
    "print(mae)\n",
    "print(model.theta)"
   ]
  },
  {
   "cell_type": "code",
   "execution_count": 42,
   "id": "a2262d1c4434288b",
   "metadata": {
    "ExecuteTime": {
     "end_time": "2024-03-10T09:16:40.653453Z",
     "start_time": "2024-03-10T09:16:40.651218Z"
    },
    "collapsed": false
   },
   "outputs": [],
   "source": []
  },
  {
   "cell_type": "code",
   "execution_count": 11,
   "id": "b1c4a8e2096882a1",
   "metadata": {
    "ExecuteTime": {
     "end_time": "2024-03-10T09:16:40.804738Z",
     "start_time": "2024-03-10T09:16:40.655461Z"
    },
    "collapsed": false
   },
   "outputs": [
    {
     "data": {
      "image/png": "[encoded data removed]",
      "text/plain": [
       "<Figure size 432x288 with 1 Axes>"
      ]
     },
     "metadata": {
      "needs_background": "light"
     },
     "output_type": "display_data"
    },
    {
     "name": "stdout",
     "output_type": "stream",
     "text": [
      "0.4140217926380877\n",
      "[[-0.01857666]\n",
      " [ 0.51807652]\n",
      " [ 0.27936862]\n",
      " [ 0.03626696]\n",
      " [-0.22039423]\n",
      " [ 0.14293406]\n",
      " [-0.09834654]\n",
      " [-0.11689356]\n",
      " [ 0.49415244]]\n"
     ]
    }
   ],
   "source": [
    "class MyLinearRegression_Momentum:\n",
    "    def __init__(self, learning_rate=0.01, beta=0.9, epochs=1000):\n",
    "        self.learning_rate = learning_rate\n",
    "        self.beta = beta\n",
    "        self.epochs = epochs\n",
    "        self.theta = None\n",
    "        \n",
    "    def fit(self, X, y):\n",
    "        X = np.concatenate((np.ones((X.shape[0], 1)), X), axis=1)\n",
    "        n_samples, n_dims = X.shape\n",
    "        \n",
    "        self.theta = np.zeros((n_dims, 1))\n",
    "        v = np.zeros((n_dims, 1))\n",
    "        \n",
    "        cost_list = []\n",
    "        epoch_list = []\n",
    "    \n",
    "        for epoch in range(self.epochs):\n",
    "            y_pred = X @ self.theta\n",
    "            \n",
    "            dt = (2 / n_samples) * (X.T @ (y_pred - y))\n",
    "            \n",
    "            v = self.beta * v + (1 - self.beta) * dt\n",
    "            self.theta -= self.learning_rate * v\n",
    "            \n",
    "            if epoch % 10 == 0:\n",
    "                cost = np.mean(np.square(y_pred - y))\n",
    "                cost_list.append(cost)\n",
    "                epoch_list.append(epoch)\n",
    "            \n",
    "        plt.plot(epoch_list, cost_list)\n",
    "        plt.xlabel('Epoch')\n",
    "        plt.ylabel('Cost')\n",
    "        plt.show()\n",
    "    \n",
    "    def predict(self, X):\n",
    "        return X @ self.theta[1:] + self.theta[0]\n",
    "    \n",
    "    \n",
    "model = MyLinearRegression_Momentum()\n",
    "model.fit(X_train, y_train)\n",
    "y_pred = model.predict(X_dev)\n",
    "\n",
    "mse = mean_squared_error(y_dev, y_pred)\n",
    "mae = mean_absolute_error(y_dev, y_pred)\n",
    "r2 = r2_score(y_dev, y_pred)\n",
    "\n",
    "y_pred_test=model.predict(X_test)\n",
    "mse_test = mean_squared_error(y_test, y_pred)\n",
    "mae_test = mean_absolute_error(y_test, y_pred)\n",
    "r2_test = r2_score(y_test, y_pred)\n",
    "\n",
    "print(mae)\n",
    "print(model.theta)"
   ]
  },
  {
   "cell_type": "code",
   "execution_count": 12,
   "id": "c6f43a8af8182442",
   "metadata": {
    "ExecuteTime": {
     "end_time": "2024-03-10T09:16:40.955347Z",
     "start_time": "2024-03-10T09:16:40.805758Z"
    },
    "collapsed": false
   },
   "outputs": [
    {
     "data": {
      "image/png": "[encoded data removed]",
      "text/plain": [
       "<Figure size 432x288 with 1 Axes>"
      ]
     },
     "metadata": {
      "needs_background": "light"
     },
     "output_type": "display_data"
    },
    {
     "name": "stdout",
     "output_type": "stream",
     "text": [
      "0.4120201999073763\n",
      "[[-0.02433916]\n",
      " [ 0.57983131]\n",
      " [ 0.34644378]\n",
      " [ 0.09720707]\n",
      " [-0.17461257]\n",
      " [ 0.15247837]\n",
      " [-0.05735853]\n",
      " [-0.05217868]\n",
      " [ 0.49775876]]\n"
     ]
    }
   ],
   "source": [
    "class MyLinearRegression_RMSprop:\n",
    "    def __init__(self, learning_rate=0.01, beta=0.9, epochs=1000):\n",
    "        self.learning_rate = learning_rate\n",
    "        self.beta = beta\n",
    "        self.epochs = epochs\n",
    "        self.theta = None\n",
    "        \n",
    "    def fit(self, X, y):\n",
    "        X = np.concatenate((np.ones((X.shape[0], 1)), X), axis=1)\n",
    "        n_samples, n_dims = X.shape\n",
    "        \n",
    "        self.theta = np.zeros((n_dims, 1))\n",
    "        s = np.zeros((n_dims, 1))\n",
    "        \n",
    "        cost_list = []\n",
    "        epoch_list = []\n",
    "    \n",
    "        for epoch in range(self.epochs):\n",
    "            y_pred = X @ self.theta\n",
    "            \n",
    "            dt = (2 / n_samples) * (X.T @ (y_pred - y))\n",
    "            \n",
    "            s = self.beta * s + (1 - self.beta) * np.square(dt)\n",
    "            self.theta -= self.learning_rate * (dt / np.sqrt(s))\n",
    "            \n",
    "            if epoch % 10 == 0:\n",
    "                cost = np.mean(np.square(y_pred - y))\n",
    "                cost_list.append(cost)\n",
    "                epoch_list.append(epoch)\n",
    "            \n",
    "        plt.plot(epoch_list, cost_list)\n",
    "        plt.xlabel('Epoch')\n",
    "        plt.ylabel('Cost')\n",
    "        plt.show()\n",
    "    \n",
    "    def predict(self, X):\n",
    "        return X @ self.theta[1:] + self.theta[0]\n",
    "    \n",
    "    \n",
    "model = MyLinearRegression_RMSprop()\n",
    "model.fit(X_train, y_train)\n",
    "y_pred = model.predict(X_dev)\n",
    "\n",
    "mse = mean_squared_error(y_dev, y_pred)\n",
    "mae = mean_absolute_error(y_dev, y_pred)\n",
    "r2 = r2_score(y_dev, y_pred)\n",
    "\n",
    "\n",
    "y_pred_test=model.predict(X_test)\n",
    "mse_test = mean_squared_error(y_test, y_pred)\n",
    "mae_test = mean_absolute_error(y_test, y_pred)\n",
    "r2_test = r2_score(y_test, y_pred)\n",
    "print(mae)\n",
    "print(model.theta)"
   ]
  },
  {
   "cell_type": "code",
   "execution_count": 13,
   "id": "2b9d7102f00afa03",
   "metadata": {
    "ExecuteTime": {
     "end_time": "2024-03-10T09:16:41.115180Z",
     "start_time": "2024-03-10T09:16:40.956306Z"
    },
    "collapsed": false
   },
   "outputs": [
    {
     "data": {
      "image/png": "[encoded data removed]",
      "text/plain": [
       "<Figure size 432x288 with 1 Axes>"
      ]
     },
     "metadata": {
      "needs_background": "light"
     },
     "output_type": "display_data"
    },
    {
     "name": "stdout",
     "output_type": "stream",
     "text": [
      "0.41135441834493963\n",
      "[[-0.01937132]\n",
      " [ 0.58460904]\n",
      " [ 0.34371336]\n",
      " [ 0.09263104]\n",
      " [-0.16970368]\n",
      " [ 0.14734328]\n",
      " [-0.05320667]\n",
      " [-0.0569309 ]\n",
      " [ 0.49246825]]\n"
     ]
    }
   ],
   "source": [
    "class MyLinearRegression_Adam:\n",
    "    def __init__(self, learning_rate=0.01, beta1=0.9, beta2=0.999, epochs=1000):\n",
    "        self.learning_rate = learning_rate\n",
    "        self.beta1 = beta1\n",
    "        self.beta2 = beta2\n",
    "        self.epochs = epochs\n",
    "        self.theta = None\n",
    "        \n",
    "    def fit(self, X, y):\n",
    "        X = np.concatenate((np.ones((X.shape[0], 1)), X), axis=1)\n",
    "        n_samples, n_dims = X.shape\n",
    "        \n",
    "        self.theta = np.zeros((n_dims, 1))\n",
    "        v = np.zeros((n_dims, 1))\n",
    "        s = np.zeros((n_dims, 1))\n",
    "        eps = 1e-8\n",
    "        \n",
    "        cost_list = []\n",
    "        epoch_list = []\n",
    "    \n",
    "        for epoch in range(self.epochs):\n",
    "            y_pred = X @ self.theta\n",
    "            \n",
    "            dt = (2 / n_samples) * (X.T @ (y_pred - y))\n",
    "            \n",
    "            v = self.beta1 * v + (1 - self.beta1) * dt\n",
    "            s = self.beta2 * s + (1 - self.beta2) * np.square(dt)\n",
    "            v_corrected = v / (1 - self.beta1)\n",
    "            s_corrected = s / (1 - self.beta2)\n",
    "            self.theta -= self.learning_rate * (v_corrected / (np.sqrt(s_corrected) + eps))\n",
    "            \n",
    "            if epoch % 10 == 0:\n",
    "                cost = np.mean(np.square(y_pred - y))\n",
    "                cost_list.append(cost)\n",
    "                epoch_list.append(epoch)\n",
    "            \n",
    "        plt.plot(epoch_list, cost_list)\n",
    "        plt.xlabel('Epoch')\n",
    "        plt.ylabel('Cost')\n",
    "        plt.show()\n",
    "    \n",
    "    def predict(self, X):\n",
    "        return X @ self.theta[1:] + self.theta[0]\n",
    "    \n",
    "    \n",
    "model = MyLinearRegression_Adam()\n",
    "model.fit(X_train, y_train)\n",
    "y_pred = model.predict(X_dev)\n",
    "\n",
    "mse = mean_squared_error(y_dev, y_pred)\n",
    "mae = mean_absolute_error(y_dev, y_pred)\n",
    "r2 = r2_score(y_dev, y_pred)\n",
    "\n",
    "y_pred_test=model.predict(X_test)\n",
    "mse_test = mean_squared_error(y_test, y_pred)\n",
    "mae_test = mean_absolute_error(y_test, y_pred)\n",
    "r2_test = r2_score(y_test, y_pred)\n",
    "\n",
    "print(mae)\n",
    "print(model.theta)"
   ]
  },
  {
   "cell_type": "code",
   "execution_count": 14,
   "id": "3e478def167bb8f2",
   "metadata": {
    "ExecuteTime": {
     "end_time": "2024-03-10T09:16:41.272479Z",
     "start_time": "2024-03-10T09:16:41.116516Z"
    },
    "collapsed": false
   },
   "outputs": [
    {
     "data": {
      "image/png": "[encoded data removed]",
      "text/plain": [
       "<Figure size 432x288 with 1 Axes>"
      ]
     },
     "metadata": {
      "needs_background": "light"
     },
     "output_type": "display_data"
    },
    {
     "name": "stdout",
     "output_type": "stream",
     "text": [
      "0.4399308245903804\n",
      "[[-0.01049909]\n",
      " [ 0.39749827]\n",
      " [ 0.16240798]\n",
      " [-0.0802592 ]\n",
      " [-0.20702138]\n",
      " [ 0.21913553]\n",
      " [-0.12872838]\n",
      " [-0.16718799]\n",
      " [ 0.46226525]]\n"
     ]
    }
   ],
   "source": [
    "class MyLinearRegression_LR_Decay:\n",
    "    def __init__(self, learning_rate=0.1, decay_rate=0.5, epochs=1000):\n",
    "        self.learning_rate = learning_rate\n",
    "        self.decay_rate = decay_rate\n",
    "        self.epochs = epochs\n",
    "        self.theta = None\n",
    "        \n",
    "    def fit(self, X, y):\n",
    "        X = np.concatenate((np.ones((X.shape[0], 1)), X), axis=1)\n",
    "        n_samples, n_dims = X.shape\n",
    "        \n",
    "        self.theta = np.zeros((n_dims, 1))\n",
    "        decay_rate = 0.5\n",
    "        \n",
    "        cost_list = []\n",
    "        epoch_list = []\n",
    "    \n",
    "        for epoch in range(self.epochs):\n",
    "            y_pred = X @ self.theta\n",
    "            \n",
    "            dt = (2 / n_samples) * (X.T @ (y_pred - y))\n",
    "            \n",
    "            learning_rate = self.learning_rate / (1 + self.decay_rate * epoch)\n",
    "            self.theta -= learning_rate * dt\n",
    "            \n",
    "            if epoch % 10 == 0:\n",
    "                cost = np.mean(np.square(y_pred - y))\n",
    "                cost_list.append(cost)\n",
    "                epoch_list.append(epoch)\n",
    "            \n",
    "        plt.plot(epoch_list, cost_list)\n",
    "        plt.xlabel('Epoch')\n",
    "        plt.ylabel('Cost')\n",
    "        plt.show()\n",
    "    \n",
    "    def predict(self, X):\n",
    "        return X @ self.theta[1:] + self.theta[0]\n",
    "    \n",
    "    \n",
    "model = MyLinearRegression_LR_Decay()\n",
    "model.fit(X_train, y_train)\n",
    "y_pred = model.predict(X_dev)\n",
    "\n",
    "mse = mean_squared_error(y_dev, y_pred)\n",
    "mae = mean_absolute_error(y_dev, y_pred)\n",
    "r2 = r2_score(y_dev, y_pred)\n",
    "\n",
    "\n",
    "y_pred_test=model.predict(X_test)\n",
    "mse_test = mean_squared_error(y_test, y_pred)\n",
    "mae_test = mean_absolute_error(y_test, y_pred)\n",
    "r2_test = r2_score(y_test, y_pred)\n",
    "\n",
    "print(mae)\n",
    "print(model.theta)"
   ]
  },
  {
   "cell_type": "code",
   "execution_count": 46,
   "id": "e332fdad26a303d",
   "metadata": {
    "ExecuteTime": {
     "end_time": "2024-03-10T09:16:41.276578Z",
     "start_time": "2024-03-10T09:16:41.273488Z"
    },
    "collapsed": false
   },
   "outputs": [],
   "source": []
  }
 ],
 "metadata": {
  "kernelspec": {
   "display_name": "Python 3",
   "language": "python",
   "name": "python3"
  },
  "language_info": {
   "codemirror_mode": {
    "name": "ipython",
    "version": 3
   },
   "file_extension": ".py",
   "mimetype": "text/x-python",
   "name": "python",
   "nbconvert_exporter": "python",
   "pygments_lexer": "ipython3",
   "version": "3.10.5"
  }
 },
 "nbformat": 4,
 "nbformat_minor": 5
}
