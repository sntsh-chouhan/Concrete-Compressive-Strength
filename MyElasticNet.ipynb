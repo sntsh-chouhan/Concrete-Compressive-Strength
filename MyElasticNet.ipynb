{
 "cells": [
  {
   "cell_type": "code",
   "execution_count": 1,
   "id": "271acc436acedb79",
   "metadata": {
    "ExecuteTime": {
     "end_time": "2024-03-10T10:05:17.746773Z",
     "start_time": "2024-03-10T10:05:17.733171Z"
    },
    "collapsed": false
   },
   "outputs": [
    {
     "name": "stderr",
     "output_type": "stream",
     "text": [
      "c:\\Users\\hp\\AppData\\Local\\Programs\\Python\\Python310\\lib\\site-packages\\scipy\\__init__.py:155: UserWarning: A NumPy version >=1.18.5 and <1.25.0 is required for this version of SciPy (detected version 1.26.4\n",
      "  warnings.warn(f\"A NumPy version >={np_minversion} and <{np_maxversion}\"\n"
     ]
    }
   ],
   "source": [
    "import numpy as np\n",
    "import pandas as pd\n",
    "import matplotlib.pyplot as plt\n",
    "import seaborn as sns\n",
    "import os\n",
    "import random\n",
    "\n",
    "pd.pandas.set_option('display.max_columns', None)\n",
    "%matplotlib inline\n",
    "random.seed(7)"
   ]
  },
  {
   "cell_type": "code",
   "execution_count": 2,
   "id": "e795916956ef234d",
   "metadata": {
    "ExecuteTime": {
     "end_time": "2024-03-10T10:05:18.083927Z",
     "start_time": "2024-03-10T10:05:17.747778Z"
    },
    "collapsed": false
   },
   "outputs": [],
   "source": [
    "from sklearn.model_selection import train_test_split, GridSearchCV, RandomizedSearchCV\n",
    "from sklearn.preprocessing import StandardScaler, MinMaxScaler\n",
    "from sklearn.linear_model import ElasticNet\n",
    "from sklearn.metrics import mean_squared_error, mean_absolute_error, r2_score"
   ]
  },
  {
   "cell_type": "code",
   "execution_count": 3,
   "id": "70950a217f2e9c12",
   "metadata": {
    "ExecuteTime": {
     "end_time": "2024-03-10T10:05:18.108536Z",
     "start_time": "2024-03-10T10:05:18.084933Z"
    },
    "collapsed": false
   },
   "outputs": [],
   "source": [
    "# src_csv = os.path.abspath(os.path.join(os.getcwd(), '..', '..', 'data', 'concrete.csv'))\n",
    "# df = pd.read_csv(src_csv)\n",
    "\n",
    "# df.head()\n",
    "\n",
    "df_train = pd.read_csv('train_concrete.csv')\n",
    "df_test = pd.read_csv('test_concrete.csv')\n",
    "df_dev = pd.read_csv('dev_concrete.csv')\n",
    "\n",
    "X_train = df_train.iloc[:, :-1].values\n",
    "X_test = df_test.iloc[:, :-1].values\n",
    "X_dev = df_dev.iloc[:, :-1].values\n",
    "y_train = df_train.iloc[:, -1].values.reshape(-1,1)\n",
    "y_test = df_test.iloc[:, -1].values.reshape(-1,1)\n",
    "y_dev = df_dev.iloc[:, -1].values.reshape(-1,1)"
   ]
  },
  {
   "cell_type": "code",
   "execution_count": 4,
   "id": "9d809b2d65cd16b2",
   "metadata": {
    "ExecuteTime": {
     "end_time": "2024-03-10T10:05:18.115117Z",
     "start_time": "2024-03-10T10:05:18.109542Z"
    },
    "collapsed": false
   },
   "outputs": [
    {
     "name": "stdout",
     "output_type": "stream",
     "text": [
      "(618, 8) (618, 1)\n"
     ]
    }
   ],
   "source": [
    "X_train = df_train.drop(df_train.columns[-1], axis=1).values\n",
    "y_train = df_train[df_train.columns[-1]].values.reshape(-1, 1)\n",
    "print(X_train.shape, y_train.shape)"
   ]
  },
  {
   "cell_type": "code",
   "execution_count": 5,
   "id": "initial_id",
   "metadata": {
    "ExecuteTime": {
     "end_time": "2024-03-10T10:05:18.120933Z",
     "start_time": "2024-03-10T10:05:18.116123Z"
    },
    "collapsed": true
   },
   "outputs": [],
   "source": [
    "# train, validation, test = 60%, 20%, 20%\n",
    "# X_tv, X_test, y_tv, y_test = train_test_split(X_data, y_data, test_size=0.2, random_state=7)\n",
    "# X_train, X_val, y_train, y_val = train_test_split(X_tv, y_tv, test_size=0.25, random_state=7)"
   ]
  },
  {
   "cell_type": "code",
   "execution_count": 5,
   "id": "776812a9f3c3ba99",
   "metadata": {
    "ExecuteTime": {
     "end_time": "2024-03-10T10:05:48.430813Z",
     "start_time": "2024-03-10T10:05:48.424110Z"
    },
    "collapsed": false
   },
   "outputs": [
    {
     "name": "stdout",
     "output_type": "stream",
     "text": [
      "0.45949112226439287\n",
      "[-0.01497365]\n",
      "[ 0.45466122  0.22062805  0.         -0.08603402  0.19907614 -0.02172459\n",
      " -0.02921655  0.42205338]\n"
     ]
    }
   ],
   "source": [
    "model = ElasticNet(alpha=0.1)\n",
    "model.fit(X_train, y_train)\n",
    "y_pred = model.predict(X_dev)\n",
    "\n",
    "mse = mean_squared_error(y_dev, y_pred)\n",
    "mae = mean_absolute_error(y_dev, y_pred)\n",
    "r2 = r2_score(y_dev, y_pred)\n",
    "\n",
    "\n",
    "y_pred_test=model.predict(X_test)\n",
    "mse_test = mean_squared_error(y_test, y_pred)\n",
    "mae_test = mean_absolute_error(y_test, y_pred)\n",
    "r2_test = r2_score(y_test, y_pred)\n",
    "\n",
    "print(mae)\n",
    "print(model.intercept_)\n",
    "print(model.coef_)"
   ]
  },
  {
   "cell_type": "code",
   "execution_count": 6,
   "id": "e332fdad26a303d",
   "metadata": {
    "ExecuteTime": {
     "end_time": "2024-03-10T10:06:32.307855Z",
     "start_time": "2024-03-10T10:06:32.165247Z"
    },
    "collapsed": false
   },
   "outputs": [
    {
     "data": {
      "image/png": "[encoded data removed]",
      "text/plain": [
       "<Figure size 432x288 with 1 Axes>"
      ]
     },
     "metadata": {
      "needs_background": "light"
     },
     "output_type": "display_data"
    },
    {
     "name": "stdout",
     "output_type": "stream",
     "text": [
      "0.5165879972185211\n",
      "[[-1.07763210e-02]\n",
      " [ 3.80765273e-01]\n",
      " [ 1.53227842e-01]\n",
      " [ 1.33857093e-03]\n",
      " [-3.17037628e-02]\n",
      " [ 1.84416118e-01]\n",
      " [-2.19581872e-03]\n",
      " [-2.64022329e-04]\n",
      " [ 3.59614385e-01]]\n"
     ]
    }
   ],
   "source": [
    "class MyElasticNetRegression_BGD:\n",
    "    def __init__(self, learning_rate=0.01, lambda_=0.1, epochs=1000):\n",
    "        self.learning_rate = learning_rate\n",
    "        self.lambda_ = lambda_\n",
    "        self.epochs = epochs\n",
    "        self.theta = None\n",
    "        \n",
    "    def fit(self, X, y):\n",
    "        X = np.concatenate((np.ones((X.shape[0], 1)), X), axis=1)\n",
    "        n_samples, n_dims = X.shape\n",
    "              \n",
    "        self.theta = np.zeros((n_dims, 1))\n",
    "        I = np.identity(n_dims)\n",
    "        I[0, 0] = 0  \n",
    "        \n",
    "        cost_list = []\n",
    "        epoch_list = []\n",
    "    \n",
    "        for epoch in range(self.epochs):\n",
    "            y_pred = X @ self.theta\n",
    "            \n",
    "            dt = (2 / n_samples) * (X.T @ (y_pred - y)) + 2 * self.lambda_ * self.theta * I.diagonal().reshape(-1, 1) + 2 * self.lambda_ * np.sign(self.theta) * I.diagonal().reshape(-1, 1)\n",
    "    \n",
    "            self.theta -= self.learning_rate * dt\n",
    "            \n",
    "            if epoch % 10 == 0:\n",
    "                cost = np.mean(np.square(y_pred - y)) + self.lambda_ * np.sum(np.square(self.theta[1:])) + self.lambda_ * np.sum(self.theta[1:])\n",
    "                cost_list.append(cost)\n",
    "                epoch_list.append(epoch)\n",
    "            \n",
    "        plt.plot(epoch_list, cost_list)\n",
    "        plt.xlabel('Epoch')\n",
    "        plt.ylabel('Cost')\n",
    "        plt.show()\n",
    "    \n",
    "    def predict(self, X):\n",
    "        return X @ self.theta[1:] + self.theta[0]\n",
    "    \n",
    "    \n",
    "model = MyElasticNetRegression_BGD()\n",
    "model.fit(X_train, y_train)\n",
    "y_pred = model.predict(X_dev)\n",
    "\n",
    "mse = mean_squared_error(y_dev, y_pred)\n",
    "mae = mean_absolute_error(y_dev, y_pred)\n",
    "r2 = r2_score(y_dev, y_pred)\n",
    "\n",
    "\n",
    "y_pred_test=model.predict(X_test)\n",
    "mse_test = mean_squared_error(y_test, y_pred)\n",
    "mae_test = mean_absolute_error(y_test, y_pred)\n",
    "r2_test = r2_score(y_test, y_pred)\n",
    "\n",
    "print(mae)\n",
    "print(model.theta)"
   ]
  },
  {
   "cell_type": "code",
   "execution_count": 7,
   "id": "b08dbc5c8f8407a1",
   "metadata": {
    "ExecuteTime": {
     "end_time": "2024-03-10T10:05:18.312034Z",
     "start_time": "2024-03-10T10:05:18.309809Z"
    },
    "collapsed": false
   },
   "outputs": [],
   "source": []
  }
 ],
 "metadata": {
  "kernelspec": {
   "display_name": "Python 3",
   "language": "python",
   "name": "python3"
  },
  "language_info": {
   "codemirror_mode": {
    "name": "ipython",
    "version": 3
   },
   "file_extension": ".py",
   "mimetype": "text/x-python",
   "name": "python",
   "nbconvert_exporter": "python",
   "pygments_lexer": "ipython3",
   "version": "3.10.5"
  }
 },
 "nbformat": 4,
 "nbformat_minor": 5
}
