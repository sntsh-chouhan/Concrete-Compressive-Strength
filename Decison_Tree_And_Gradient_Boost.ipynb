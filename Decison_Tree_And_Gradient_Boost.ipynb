{
 "cells": [
  {
   "cell_type": "code",
   "execution_count": 1,
   "id": "4921e3aa-4243-43d0-ba0b-5a237d030da6",
   "metadata": {},
   "outputs": [
    {
     "name": "stdout",
     "output_type": "stream",
     "text": [
      "Collecting ucimlrepo\n",
      "  Downloading ucimlrepo-0.0.6-py3-none-any.whl.metadata (5.3 kB)\n",
      "Downloading ucimlrepo-0.0.6-py3-none-any.whl (8.0 kB)\n",
      "Installing collected packages: ucimlrepo\n",
      "Successfully installed ucimlrepo-0.0.6\n"
     ]
    },
    {
     "name": "stderr",
     "output_type": "stream",
     "text": [
      "c:\\Users\\hp\\AppData\\Local\\Programs\\Python\\Python310\\lib\\site-packages\\scipy\\__init__.py:155: UserWarning: A NumPy version >=1.18.5 and <1.25.0 is required for this version of SciPy (detected version 1.26.4\n",
      "  warnings.warn(f\"A NumPy version >={np_minversion} and <{np_maxversion}\"\n"
     ]
    }
   ],
   "source": [
    "import numpy as np\n",
    "import pandas as pd\n",
    "try:\n",
    "  from ucimlrepo import fetch_ucirepo\n",
    "except Exception:\n",
    "  !pip install ucimlrepo\n",
    "  from ucimlrepo import fetch_ucirepo\n",
    "import warnings\n",
    "from sklearn.tree import DecisionTreeRegressor\n",
    "from sklearn.ensemble import GradientBoostingRegressor\n",
    "from sklearn.metrics import mean_squared_error , r2_score\n",
    "\n",
    "pd.pandas.set_option('display.max_columns', None)\n",
    "%matplotlib inline\n",
    "warnings.filterwarnings('ignore')"
   ]
  },
  {
   "cell_type": "code",
   "execution_count": 2,
   "id": "a9da0992-29a3-4f84-8a38-4b8a81b0a730",
   "metadata": {},
   "outputs": [],
   "source": [
    "df_train = pd.read_csv('train_concrete.csv')\n",
    "df_test = pd.read_csv('test_concrete.csv')\n",
    "df_dev = pd.read_csv('dev_concrete.csv')"
   ]
  },
  {
   "cell_type": "code",
   "execution_count": 86,
   "id": "00dc7015-d243-4e24-b319-5275bf3e4c68",
   "metadata": {},
   "outputs": [],
   "source": [
    "X_train = df_train.iloc[:, :-1].values\n",
    "X_test = df_test.iloc[:, :-1].values\n",
    "X_dev = df_dev.iloc[:, :-1].values\n",
    "y_train = df_train.iloc[:, -1].values.reshape(-1,1)\n",
    "y_test = df_test.iloc[:, -1].values.reshape(-1,1)\n",
    "y_dev = df_dev.iloc[:, -1].values.reshape(-1,1)"
   ]
  },
  {
   "cell_type": "code",
   "execution_count": 87,
   "id": "7cf5e140",
   "metadata": {},
   "outputs": [],
   "source": [
    "class Node():\n",
    "    def __init__(self, feature_index=None, threshold=None, left=None, right=None, var_red=None, value=None):\n",
    "        ''' constructor ''' \n",
    "        \n",
    "        # for decision node\n",
    "        self.feature_index = feature_index\n",
    "        self.threshold = threshold\n",
    "        self.left = left\n",
    "        self.right = right\n",
    "        self.var_red = var_red\n",
    "        \n",
    "        # for leaf node\n",
    "        self.value = value"
   ]
  },
  {
   "cell_type": "code",
   "execution_count": 88,
   "id": "73b893c8-7dca-44aa-a4c5-e4ecdea0e7b7",
   "metadata": {},
   "outputs": [],
   "source": [
    "class MyDecisionTreeRegressor():\n",
    "    def __init__(self, min_samples_split=2, max_depth=2):\n",
    "        ''' constructor '''\n",
    "        \n",
    "        # initialize the root of the tree \n",
    "        self.root = None\n",
    "        \n",
    "        # stopping conditions\n",
    "        self.min_samples_split = min_samples_split\n",
    "        self.max_depth = max_depth\n",
    "        \n",
    "    def build_tree(self, dataset, curr_depth=0):\n",
    "        ''' recursive function to build the tree '''\n",
    "        \n",
    "        X, Y = dataset[:,:-1], dataset[:,-1]\n",
    "        num_samples, num_features = np.shape(X)\n",
    "        best_split = {}\n",
    "        # split until stopping conditions are met\n",
    "        if num_samples>=self.min_samples_split and curr_depth<=self.max_depth:\n",
    "            # find the best split\n",
    "            best_split = self.get_best_split(dataset, num_samples, num_features)\n",
    "            # check if information gain is positive\n",
    "            if best_split[\"var_red\"]>0:\n",
    "                # recur left\n",
    "                left_subtree = self.build_tree(best_split[\"dataset_left\"], curr_depth+1)\n",
    "                # recur right\n",
    "                right_subtree = self.build_tree(best_split[\"dataset_right\"], curr_depth+1)\n",
    "                # return decision node\n",
    "                return Node(best_split[\"feature_index\"], best_split[\"threshold\"], \n",
    "                            left_subtree, right_subtree, best_split[\"var_red\"])\n",
    "        \n",
    "        # compute leaf node\n",
    "        leaf_value = self.calculate_leaf_value(Y)\n",
    "        # return leaf node\n",
    "        return Node(value=leaf_value)\n",
    "    \n",
    "    def get_best_split(self, dataset, num_samples, num_features):\n",
    "        ''' function to find the best split '''\n",
    "        \n",
    "        # dictionary to store the best split\n",
    "        best_split = {}\n",
    "        max_var_red = -float(\"inf\")\n",
    "        # loop over all the features\n",
    "        for feature_index in range(num_features):\n",
    "            feature_values = dataset[:, feature_index]\n",
    "            possible_thresholds = np.unique(feature_values)\n",
    "            # loop over all the feature values present in the data\n",
    "            for threshold in possible_thresholds:\n",
    "                # get current split\n",
    "                dataset_left, dataset_right = self.split(dataset, feature_index, threshold)\n",
    "                # check if childs are not null\n",
    "                if len(dataset_left)>0 and len(dataset_right)>0:\n",
    "                    y, left_y, right_y = dataset[:, -1], dataset_left[:, -1], dataset_right[:, -1]\n",
    "                    # compute information gain\n",
    "                    curr_var_red = self.variance_reduction(y, left_y, right_y)\n",
    "                    # update the best split if needed\n",
    "                    if curr_var_red>max_var_red:\n",
    "                        best_split[\"feature_index\"] = feature_index\n",
    "                        best_split[\"threshold\"] = threshold\n",
    "                        best_split[\"dataset_left\"] = dataset_left\n",
    "                        best_split[\"dataset_right\"] = dataset_right\n",
    "                        best_split[\"var_red\"] = curr_var_red\n",
    "                        max_var_red = curr_var_red\n",
    "                        \n",
    "        # return best split\n",
    "        return best_split\n",
    "    \n",
    "    def split(self, dataset, feature_index, threshold):\n",
    "        ''' function to split the data '''\n",
    "        \n",
    "        dataset_left = np.array([row for row in dataset if row[feature_index]<=threshold])\n",
    "        dataset_right = np.array([row for row in dataset if row[feature_index]>threshold])\n",
    "        return dataset_left, dataset_right\n",
    "    \n",
    "    def variance_reduction(self, parent, l_child, r_child):\n",
    "        ''' function to compute variance reduction '''\n",
    "        \n",
    "        weight_l = len(l_child) / len(parent)\n",
    "        weight_r = len(r_child) / len(parent)\n",
    "        reduction = np.var(parent) - (weight_l * np.var(l_child) + weight_r * np.var(r_child))\n",
    "        return reduction\n",
    "    \n",
    "    def calculate_leaf_value(self, Y):\n",
    "        ''' function to compute leaf node '''\n",
    "        \n",
    "        val = np.mean(Y)\n",
    "        return val\n",
    "                \n",
    "    def print_tree(self, tree=None, indent=\" \"):\n",
    "        ''' function to print the tree '''\n",
    "        \n",
    "        if not tree:\n",
    "            tree = self.root\n",
    "\n",
    "        if tree.value is not None:\n",
    "            print(tree.value)\n",
    "\n",
    "        else:\n",
    "            print(\"X_\"+str(tree.feature_index), \"<=\", tree.threshold, \"?\", tree.var_red)\n",
    "            print(\"%sleft:\" % (indent), end=\"\")\n",
    "            self.print_tree(tree.left, indent + indent)\n",
    "            print(\"%sright:\" % (indent), end=\"\")\n",
    "            self.print_tree(tree.right, indent + indent)\n",
    "    \n",
    "    def fit(self, X, Y):\n",
    "        ''' function to train the tree '''\n",
    "        \n",
    "        # Reshape Y to ensure it's one-dimensional\n",
    "        Y = np.squeeze(Y)\n",
    "        \n",
    "        dataset = np.concatenate((X, Y.reshape(-1, 1)), axis=1)\n",
    "        self.root = self.build_tree(dataset)\n",
    "        \n",
    "    def make_prediction(self, x, tree):\n",
    "        ''' function to predict new dataset '''\n",
    "        \n",
    "        if tree.value!=None: return tree.value\n",
    "        feature_val = x[tree.feature_index]\n",
    "        if feature_val<=tree.threshold:\n",
    "            return self.make_prediction(x, tree.left)\n",
    "        else:\n",
    "            return self.make_prediction(x, tree.right)\n",
    "    \n",
    "    def predict(self, X):\n",
    "        ''' function to predict a single data point '''\n",
    "        \n",
    "        preditions = [self.make_prediction(x, self.root) for x in X]\n",
    "        return preditions"
   ]
  },
  {
   "cell_type": "code",
   "execution_count": 89,
   "id": "3a2f94d6-a827-4bd3-8700-113eef759f11",
   "metadata": {},
   "outputs": [],
   "source": [
    "regressor = MyDecisionTreeRegressor(min_samples_split=2, max_depth=3)\n",
    "regressor.fit(X_train,y_train)"
   ]
  },
  {
   "cell_type": "code",
   "execution_count": 90,
   "id": "e48bee39-7a81-4680-abfb-49482cbc698d",
   "metadata": {},
   "outputs": [
    {
     "name": "stdout",
     "output_type": "stream",
     "text": [
      "Scratch Implementation\n",
      "Root Mean Squared Error: 0.63\n",
      "R2 Score: 0.62\n"
     ]
    }
   ],
   "source": [
    "y_pred = regressor.predict(X_dev)\n",
    "rmse = np.sqrt(mean_squared_error(y_dev, y_pred))\n",
    "r2 = r2_score(y_dev, y_pred)\n",
    "print(\"Scratch Implementation\")\n",
    "print(f\"Root Mean Squared Error: {rmse:.2f}\")\n",
    "print(f\"R2 Score: {r2:.2f}\")"
   ]
  },
  {
   "cell_type": "code",
   "execution_count": 91,
   "id": "3f204760",
   "metadata": {},
   "outputs": [
    {
     "name": "stdout",
     "output_type": "stream",
     "text": [
      "Decision Tree Regressor Results for Different max_depth Values:\n",
      "max_depth=2\n",
      "Root Mean Squared Error: 0.76\n",
      "R2 Score: 0.44\n",
      "\n",
      "max_depth=3\n",
      "Root Mean Squared Error: 0.68\n",
      "R2 Score: 0.56\n",
      "\n",
      "max_depth=5\n",
      "Root Mean Squared Error: 0.56\n",
      "R2 Score: 0.70\n",
      "\n"
     ]
    }
   ],
   "source": [
    "# Define different values for max_depth to test\n",
    "max_depth_values = [2, 3, 5]\n",
    "\n",
    "print(\"Decision Tree Regressor Results for Different max_depth Values:\")\n",
    "for max_depth in max_depth_values:\n",
    "    print(f\"max_depth={max_depth}\")\n",
    "\n",
    "    # Initialize and train the DecisionTreeRegressor\n",
    "    model = DecisionTreeRegressor(max_depth=max_depth)\n",
    "    model.fit(X_train, y_train)\n",
    "\n",
    "    # Make predictions on the development set\n",
    "    y_pred = model.predict(X_dev)\n",
    "\n",
    "    # Calculate RMSE and R2 score\n",
    "    rmse = mean_squared_error(y_dev, y_pred, squared=False)\n",
    "    r2 = r2_score(y_dev, y_pred)\n",
    "\n",
    "    print(f\"Root Mean Squared Error: {rmse:.2f}\")\n",
    "    print(f\"R2 Score: {r2:.2f}\\n\")\n"
   ]
  },
  {
   "cell_type": "code",
   "execution_count": 92,
   "id": "a24c9de7-bb72-4f38-9543-e310f4bb5136",
   "metadata": {},
   "outputs": [],
   "source": [
    "class MyGradientBoostingRegressor:\n",
    "    def __init__(self, n_estimators=100, learning_rate=0.1, min_samples_split=2, max_depth=2):\n",
    "        self.n_estimators = n_estimators\n",
    "        self.learning_rate = learning_rate\n",
    "        self.min_samples_split = min_samples_split\n",
    "        self.max_depth = max_depth\n",
    "        self.trees = []\n",
    "\n",
    "    def fit(self, X, y):\n",
    "        # Initialize the residuals as y\n",
    "        residuals = np.copy(y).reshape(-1)  # Reshape to ensure it's one-dimensional\n",
    "\n",
    "        for _ in range(self.n_estimators):\n",
    "            # Fit a new tree to the residuals\n",
    "            tree = MyDecisionTreeRegressor(min_samples_split=self.min_samples_split, max_depth=self.max_depth)\n",
    "            tree.fit(X, residuals)\n",
    "\n",
    "            # Compute predictions of the new tree\n",
    "            tree_predictions = np.array(tree.predict(X)).reshape(-1)  # Reshape to ensure it's one-dimensional\n",
    "\n",
    "            # Update residuals by subtracting the predictions scaled by learning_rate\n",
    "            residuals -= self.learning_rate * tree_predictions\n",
    "\n",
    "            # Store the new tree in the list of trees\n",
    "            self.trees.append(tree)\n",
    "\n",
    "    def predict(self, X):\n",
    "        # Initialize predictions with zeros\n",
    "        predictions = np.zeros(len(X))\n",
    "\n",
    "        # Add predictions of each tree scaled by learning_rate\n",
    "        for tree in self.trees:\n",
    "            predictions += self.learning_rate * np.array(tree.predict(X))\n",
    "\n",
    "        return predictions\n"
   ]
  },
  {
   "cell_type": "code",
   "execution_count": 93,
   "id": "9c360509-8883-4ca8-b38a-7240b9cbd553",
   "metadata": {},
   "outputs": [],
   "source": [
    "gb_regressor = MyGradientBoostingRegressor(n_estimators=100, learning_rate=0.1)\n",
    "gb_regressor.fit(X_train, y_train)"
   ]
  },
  {
   "cell_type": "code",
   "execution_count": 95,
   "id": "1a2983a7-8e9e-40d1-a933-577fbd0c7926",
   "metadata": {},
   "outputs": [
    {
     "name": "stdout",
     "output_type": "stream",
     "text": [
      "Scratch Implementation\n",
      "Root Mean Squared Error: 0.36\n",
      "R2 Score: 0.87\n"
     ]
    }
   ],
   "source": [
    "GBY_pred = gb_regressor.predict(X_dev)\n",
    "rmse = np.sqrt(mean_squared_error(y_dev, GBY_pred))\n",
    "r2 = r2_score(y_dev, GBY_pred)\n",
    "print(\"Scratch Implementation\")\n",
    "print(f\"Root Mean Squared Error: {rmse:.2f}\")\n",
    "print(f\"R2 Score: {r2:.2f}\")"
   ]
  },
  {
   "cell_type": "code",
   "execution_count": 96,
   "id": "b24fcd89-9a46-496e-ab57-109670ce654c",
   "metadata": {},
   "outputs": [
    {
     "name": "stdout",
     "output_type": "stream",
     "text": [
      "Gradient Boosting Regressor Results for Different n_estimators Values:\n",
      "n_estimators=50\n",
      "RMSE: 0.43\n",
      "R-squared Score: 0.82\n",
      "\n",
      "n_estimators=100\n",
      "RMSE: 0.39\n",
      "R-squared Score: 0.85\n",
      "\n",
      "n_estimators=150\n",
      "RMSE: 0.36\n",
      "R-squared Score: 0.87\n",
      "\n"
     ]
    }
   ],
   "source": [
    "# Define different values for n_estimators to test\n",
    "n_estimators_values = [50, 100, 150]\n",
    "\n",
    "print(\"Gradient Boosting Regressor Results for Different n_estimators Values:\")\n",
    "for n_estimators in n_estimators_values:\n",
    "    print(f\"n_estimators={n_estimators}\")\n",
    "\n",
    "    # Initialize the GradientBoostingRegressor with desired parameters\n",
    "    gb_regressor = GradientBoostingRegressor(n_estimators=n_estimators, learning_rate=0.1)\n",
    "\n",
    "    # Train the model using the training data\n",
    "    gb_regressor.fit(X_train, y_train)\n",
    "\n",
    "    # Make predictions on the development set\n",
    "    y_pred = gb_regressor.predict(X_dev)\n",
    "\n",
    "    # Calculate RMSE and R2 score for the development set\n",
    "    gb_rmse = mean_squared_error(y_dev, y_pred, squared=False)\n",
    "    gb_r2 = r2_score(y_dev, y_pred)\n",
    "\n",
    "    print(f\"RMSE: {gb_rmse:.2f}\")\n",
    "    print(f\"R-squared Score: {gb_r2:.2f}\\n\")\n"
   ]
  },
  {
   "cell_type": "code",
   "execution_count": null,
   "id": "9f071806",
   "metadata": {},
   "outputs": [],
   "source": []
  }
 ],
 "metadata": {
  "kernelspec": {
   "display_name": "Python 3 (ipykernel)",
   "language": "python",
   "name": "python3"
  },
  "language_info": {
   "codemirror_mode": {
    "name": "ipython",
    "version": 3
   },
   "file_extension": ".py",
   "mimetype": "text/x-python",
   "name": "python",
   "nbconvert_exporter": "python",
   "pygments_lexer": "ipython3",
   "version": "3.10.5"
  }
 },
 "nbformat": 4,
 "nbformat_minor": 5
}
