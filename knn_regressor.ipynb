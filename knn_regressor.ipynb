{
 "cells": [
  {
   "cell_type": "code",
   "execution_count": 1,
   "metadata": {},
   "outputs": [
    {
     "name": "stderr",
     "output_type": "stream",
     "text": [
      "c:\\Users\\hp\\AppData\\Local\\Programs\\Python\\Python310\\lib\\site-packages\\scipy\\__init__.py:155: UserWarning: A NumPy version >=1.18.5 and <1.25.0 is required for this version of SciPy (detected version 1.26.4\n",
      "  warnings.warn(f\"A NumPy version >={np_minversion} and <{np_maxversion}\"\n"
     ]
    }
   ],
   "source": [
    "import pandas as pd\n",
    "import numpy as np\n",
    "from sklearn.model_selection import train_test_split\n",
    "from sklearn.metrics import mean_squared_error, r2_score\n",
    "#importing libraries"
   ]
  },
  {
   "cell_type": "code",
   "execution_count": 2,
   "metadata": {},
   "outputs": [],
   "source": [
    "#Load data\n",
    "#data= pd.read_csv('concrete.csv')\n",
    "\n",
    "# # Load train and test data from CSV files\n",
    "# train_data = pd.read_csv('train_concrete.csv')\n",
    "# test_data = pd.read_csv('test_concrete.csv')\n",
    "\n",
    "# #display the first few rows of data\n",
    "# print(train_data.head())\n",
    "\n",
    "df_train = pd.read_csv('train_concrete.csv')\n",
    "df_test = pd.read_csv('test_concrete.csv')\n",
    "df_dev = pd.read_csv('dev_concrete.csv')\n",
    "\n",
    "X_train = df_train.iloc[:, :-1].values\n",
    "X_test = df_test.iloc[:, :-1].values\n",
    "X_dev = df_dev.iloc[:, :-1].values\n",
    "y_train = df_train.iloc[:, -1].values.reshape(-1,1)\n",
    "y_test = df_test.iloc[:, -1].values.reshape(-1,1)\n",
    "y_dev = df_dev.iloc[:, -1].values.reshape(-1,1)"
   ]
  },
  {
   "cell_type": "code",
   "execution_count": 3,
   "metadata": {},
   "outputs": [
    {
     "name": "stdout",
     "output_type": "stream",
     "text": [
      "(618, 6) (618, 1)\n"
     ]
    }
   ],
   "source": [
    "X_train = df_train.drop(df_train.columns[-1], axis=1).values\n",
    "y_train = df_train[df_train.columns[-1]].values.reshape(-1, 1)\n",
    "print(X_train.shape, y_train.shape)"
   ]
  },
  {
   "cell_type": "code",
   "execution_count": 11,
   "metadata": {},
   "outputs": [],
   "source": [
    "# Splitting the data into features (X) and target variable (y)\n",
    "#X = train_data.drop(columns=['Concrete compressive strength'])  # Features\n",
    "#y = train_data['Concrete compressive strength']  # Target variable\n",
    "\n",
    "# Splitting the data into training and testing sets\n",
    "#X_train, X_test, y_train, y_test = train_test_split(X, y, test_size=0.2, random_state=42)\n",
    "\n",
    "# # Split the train data into features (X) and target variable (y)\n",
    "# X_train = train_data.drop(columns=['Concrete compressive strength'])  # Features\n",
    "# y_train = train_data['Concrete compressive strength']  # Target variable\n",
    "\n",
    "# # Split the test data into features (X) and target variable (y)\n",
    "# X_test = test_data.drop(columns=['Concrete compressive strength'])  # Features\n",
    "# y_test = test_data['Concrete compressive strength']  # Target variable"
   ]
  },
  {
   "cell_type": "code",
   "execution_count": 11,
   "metadata": {},
   "outputs": [],
   "source": [
    "class KNNRegressor:\n",
    "    def __init__(self, k=5):\n",
    "        self.k = k\n",
    "\n",
    "    def euclidean_distance(self, point1, point2):\n",
    "        return np.sqrt(np.sum((point1 - point2)**2))\n",
    "\n",
    "    def find_nearest_neighbors(self, X_train, y_train, test_point):\n",
    "        distances = []\n",
    "        for i, train_point in enumerate(X_train):\n",
    "            distance = self.euclidean_distance(train_point, test_point)\n",
    "            distances.append((i, distance))\n",
    "        distances.sort(key=lambda x: x[1])\n",
    "        neighbors = []\n",
    "        for i in range(self.k):\n",
    "            index = distances[i][0]\n",
    "            neighbor = (X_train[index], y_train[index])\n",
    "            neighbors.append(neighbor)\n",
    "        return neighbors\n",
    "\n",
    "    def fit(self, X_train, y_train):\n",
    "        self.X_train = X_train\n",
    "        self.y_train = y_train\n",
    "\n",
    "    def predict(self, X_test):\n",
    "        predictions = []\n",
    "        for test_point in X_test:\n",
    "            neighbors = self.find_nearest_neighbors(self.X_train, self.y_train, test_point)\n",
    "            total = 0\n",
    "            for neighbor in neighbors:\n",
    "                total += neighbor[1]\n",
    "            mean = total / self.k\n",
    "            predictions.append(mean)\n",
    "        return np.array(predictions)\n"
   ]
  },
  {
   "cell_type": "code",
   "execution_count": 12,
   "metadata": {},
   "outputs": [],
   "source": [
    "\n",
    "\n",
    "# Instantiate the KNNRegressor class with k=5 (you can choose any value for k)\n",
    "knn_regressor = KNNRegressor(k=4)\n",
    "\n",
    "# Fit the model (store the training data)\n",
    "knn_regressor.fit(X_train, y_train)\n",
    "\n",
    "# Make predictions on the test set\n",
    "y_pred = knn_regressor.predict(X_dev)\n"
   ]
  },
  {
   "cell_type": "code",
   "execution_count": 15,
   "metadata": {},
   "outputs": [
    {
     "name": "stdout",
     "output_type": "stream",
     "text": [
      "Root Mean Squared Error: 0.48389080224389575\n",
      "R squared: 0.7760684230789956\n"
     ]
    }
   ],
   "source": [
    "\n",
    "\n",
    "# Calculate Mean Squared Error\n",
    "mse = mean_squared_error(y_dev, y_pred)\n",
    "\n",
    "# Calculate Root Mean Squared Error\n",
    "rmse = np.sqrt(mse)\n",
    "\n",
    "r2 = r2_score(y_dev, y_pred)\n",
    "\n",
    "\n",
    "\n",
    "\n",
    "print(\"Root Mean Squared Error:\", rmse)\n",
    "print(\"R squared:\",r2)\n",
    "\n"
   ]
  },
  {
   "cell_type": "code",
   "execution_count": null,
   "metadata": {},
   "outputs": [],
   "source": []
  }
 ],
 "metadata": {
  "kernelspec": {
   "display_name": "Python 3 (ipykernel)",
   "language": "python",
   "name": "python3"
  },
  "language_info": {
   "codemirror_mode": {
    "name": "ipython",
    "version": 3
   },
   "file_extension": ".py",
   "mimetype": "text/x-python",
   "name": "python",
   "nbconvert_exporter": "python",
   "pygments_lexer": "ipython3",
   "version": "3.10.5"
  }
 },
 "nbformat": 4,
 "nbformat_minor": 4
}
