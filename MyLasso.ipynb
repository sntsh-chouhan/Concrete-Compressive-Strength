{
 "cells": [
  {
   "cell_type": "code",
   "execution_count": 1,
   "id": "271acc436acedb79",
   "metadata": {
    "ExecuteTime": {
     "end_time": "2024-03-10T09:57:26.902572Z",
     "start_time": "2024-03-10T09:57:26.883432Z"
    },
    "collapsed": false
   },
   "outputs": [
    {
     "name": "stderr",
     "output_type": "stream",
     "text": [
      "c:\\Users\\hp\\AppData\\Local\\Programs\\Python\\Python310\\lib\\site-packages\\scipy\\__init__.py:155: UserWarning: A NumPy version >=1.18.5 and <1.25.0 is required for this version of SciPy (detected version 1.26.4\n",
      "  warnings.warn(f\"A NumPy version >={np_minversion} and <{np_maxversion}\"\n"
     ]
    }
   ],
   "source": [
    "import numpy as np\n",
    "import pandas as pd\n",
    "import matplotlib.pyplot as plt\n",
    "import seaborn as sns\n",
    "import os\n",
    "import random\n",
    "\n",
    "pd.pandas.set_option('display.max_columns', None)\n",
    "%matplotlib inline\n",
    "random.seed(7)"
   ]
  },
  {
   "cell_type": "code",
   "execution_count": 2,
   "id": "e795916956ef234d",
   "metadata": {
    "ExecuteTime": {
     "end_time": "2024-03-10T09:57:27.432791Z",
     "start_time": "2024-03-10T09:57:26.903580Z"
    },
    "collapsed": false
   },
   "outputs": [],
   "source": [
    "from sklearn.model_selection import train_test_split, GridSearchCV, RandomizedSearchCV\n",
    "from sklearn.preprocessing import StandardScaler, MinMaxScaler\n",
    "from sklearn.linear_model import Lasso\n",
    "from sklearn.metrics import mean_squared_error, mean_absolute_error, r2_score"
   ]
  },
  {
   "cell_type": "code",
   "execution_count": 3,
   "id": "70950a217f2e9c12",
   "metadata": {
    "ExecuteTime": {
     "end_time": "2024-03-10T09:57:27.460210Z",
     "start_time": "2024-03-10T09:57:27.433799Z"
    },
    "collapsed": false
   },
   "outputs": [],
   "source": [
    "# src_csv = os.path.abspath(os.path.join(os.getcwd(), '..', '..', 'data', 'concrete.csv'))\n",
    "# df = pd.read_csv(src_csv)\n",
    "\n",
    "# df.head()\n",
    "\n",
    "df_train = pd.read_csv('train_concrete.csv')\n",
    "df_test = pd.read_csv('test_concrete.csv')\n",
    "df_dev = pd.read_csv('dev_concrete.csv')\n",
    "\n",
    "X_train = df_train.iloc[:, :-1].values\n",
    "X_test = df_test.iloc[:, :-1].values\n",
    "X_dev = df_dev.iloc[:, :-1].values\n",
    "y_train = df_train.iloc[:, -1].values.reshape(-1,1)\n",
    "y_test = df_test.iloc[:, -1].values.reshape(-1,1)\n",
    "y_dev = df_dev.iloc[:, -1].values.reshape(-1,1)"
   ]
  },
  {
   "cell_type": "code",
   "execution_count": 4,
   "id": "9d809b2d65cd16b2",
   "metadata": {
    "ExecuteTime": {
     "end_time": "2024-03-10T09:57:27.465635Z",
     "start_time": "2024-03-10T09:57:27.460210Z"
    },
    "collapsed": false
   },
   "outputs": [
    {
     "name": "stdout",
     "output_type": "stream",
     "text": [
      "(618, 8) (618, 1)\n"
     ]
    }
   ],
   "source": [
    "X_train = df_train.drop(df_train.columns[-1], axis=1).values\n",
    "y_train = df_train[df_train.columns[-1]].values.reshape(-1, 1)\n",
    "print(X_train.shape, y_train.shape)"
   ]
  },
  {
   "cell_type": "code",
   "execution_count": 7,
   "id": "initial_id",
   "metadata": {
    "ExecuteTime": {
     "end_time": "2024-03-10T09:57:27.471674Z",
     "start_time": "2024-03-10T09:57:27.466644Z"
    },
    "collapsed": true
   },
   "outputs": [],
   "source": [
    "# train, validation, test = 60%, 20%, 20%\n",
    "# X_tv, X_test, y_tv, y_test = train_test_split(X_data, y_data, test_size=0.2, random_state=7)\n",
    "# X_train, X_val, y_train, y_val = train_test_split(X_tv, y_tv, test_size=0.25, random_state=7)"
   ]
  },
  {
   "cell_type": "code",
   "execution_count": 7,
   "id": "776812a9f3c3ba99",
   "metadata": {
    "ExecuteTime": {
     "end_time": "2024-03-10T09:57:27.485109Z",
     "start_time": "2024-03-10T09:57:27.472683Z"
    },
    "collapsed": false
   },
   "outputs": [
    {
     "name": "stdout",
     "output_type": "stream",
     "text": [
      "0.4442744203765752\n",
      "0.5751144972666613\n"
     ]
    }
   ],
   "source": [
    "model = Lasso(alpha=0.1)\n",
    "model.fit(X_train, y_train)\n",
    "y_pred = model.predict(X_dev)\n",
    "\n",
    "mse = mean_squared_error(y_dev, y_pred)\n",
    "mae = mean_absolute_error(y_dev, y_pred)\n",
    "r2 = r2_score(y_dev, y_pred)\n",
    "\n",
    "y_pred_test=model.predict(X_test)\n",
    "mse_test = mean_squared_error(y_test, y_pred)\n",
    "mae_test = mean_absolute_error(y_test, y_pred)\n",
    "r2_test = r2_score(y_test, y_pred)\n",
    "\n",
    "print(mse)\n",
    "print(r2)"
   ]
  },
  {
   "cell_type": "code",
   "execution_count": 8,
   "id": "e332fdad26a303d",
   "metadata": {
    "ExecuteTime": {
     "end_time": "2024-03-10T09:57:27.710973Z",
     "start_time": "2024-03-10T09:57:27.518151Z"
    },
    "collapsed": false
   },
   "outputs": [
    {
     "data": {
      "image/png": "[encoded data removed]",
      "text/plain": [
       "<Figure size 432x288 with 1 Axes>"
      ]
     },
     "metadata": {
      "needs_background": "light"
     },
     "output_type": "display_data"
    },
    {
     "name": "stdout",
     "output_type": "stream",
     "text": [
      "0.4439919533934212\n",
      "0.5753846368935192\n"
     ]
    }
   ],
   "source": [
    "class MyLassoRegression_BGD:\n",
    "    def __init__(self, learning_rate=0.01, lambda_=0.1, epochs=1000):\n",
    "        self.learning_rate = learning_rate\n",
    "        self.lambda_ = lambda_\n",
    "        self.epochs = epochs\n",
    "        self.theta = None\n",
    "        \n",
    "    def fit(self, X, y):\n",
    "        X = np.concatenate((np.ones((X.shape[0], 1)), X), axis=1)\n",
    "        n_samples, n_dims = X.shape\n",
    "              \n",
    "        self.theta = np.zeros((n_dims, 1))\n",
    "        I = np.identity(n_dims)\n",
    "        I[0, 0] = 0  \n",
    "        \n",
    "        cost_list = []\n",
    "        epoch_list = []\n",
    "    \n",
    "        for epoch in range(self.epochs):\n",
    "            y_pred = X @ self.theta\n",
    "            \n",
    "            dt = (2 / n_samples) * (X.T @ (y_pred - y)) + 2 * self.lambda_ * np.sign(self.theta) * I.diagonal().reshape(-1, 1)\n",
    "    \n",
    "            self.theta -= self.learning_rate * dt\n",
    "            \n",
    "            if epoch % 10 == 0:\n",
    "                cost = np.mean(np.square(y_pred - y)) + self.lambda_ * np.sum(self.theta[1:])\n",
    "                cost_list.append(cost)\n",
    "                epoch_list.append(epoch)\n",
    "            \n",
    "        plt.plot(epoch_list, cost_list)\n",
    "        plt.xlabel('Epoch')\n",
    "        plt.ylabel('Cost')\n",
    "        plt.show()\n",
    "    \n",
    "    def predict(self, X):\n",
    "        return X @ self.theta[1:] + self.theta[0]\n",
    "    \n",
    "    \n",
    "model = MyLassoRegression_BGD()\n",
    "model.fit(X_train, y_train)\n",
    "y_pred = model.predict(X_dev)\n",
    "\n",
    "mse = mean_squared_error(y_dev, y_pred)\n",
    "mae = mean_absolute_error(y_dev, y_pred)\n",
    "r2 = r2_score(y_dev, y_pred)\n",
    "\n",
    "\n",
    "y_pred_test=model.predict(X_test)\n",
    "mse_test = mean_squared_error(y_test, y_pred)\n",
    "mae_test = mean_absolute_error(y_test, y_pred)\n",
    "r2_test = r2_score(y_test, y_pred)\n",
    "print(mse)\n",
    "print(r2)"
   ]
  },
  {
   "cell_type": "code",
   "execution_count": 10,
   "id": "db7a8885a01dca55",
   "metadata": {
    "ExecuteTime": {
     "end_time": "2024-03-10T09:57:27.714839Z",
     "start_time": "2024-03-10T09:57:27.711982Z"
    },
    "collapsed": false
   },
   "outputs": [],
   "source": []
  }
 ],
 "metadata": {
  "kernelspec": {
   "display_name": "Python 3",
   "language": "python",
   "name": "python3"
  },
  "language_info": {
   "codemirror_mode": {
    "name": "ipython",
    "version": 3
   },
   "file_extension": ".py",
   "mimetype": "text/x-python",
   "name": "python",
   "nbconvert_exporter": "python",
   "pygments_lexer": "ipython3",
   "version": "3.10.5"
  }
 },
 "nbformat": 4,
 "nbformat_minor": 5
}
